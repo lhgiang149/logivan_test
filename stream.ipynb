{
 "cells": [
  {
   "cell_type": "code",
   "execution_count": 3,
   "metadata": {},
   "outputs": [
    {
     "ename": "ModuleNotFoundError",
     "evalue": "No module named 'streamlink'",
     "output_type": "error",
     "traceback": [
      "\u001b[1;31m---------------------------------------------------------------------------\u001b[0m",
      "\u001b[1;31mModuleNotFoundError\u001b[0m                       Traceback (most recent call last)",
      "\u001b[1;32m<ipython-input-3-231bbbf42eb3>\u001b[0m in \u001b[0;36m<module>\u001b[1;34m\u001b[0m\n\u001b[1;32m----> 1\u001b[1;33m \u001b[1;32mimport\u001b[0m \u001b[0mstreamlink\u001b[0m\u001b[1;33m\u001b[0m\u001b[1;33m\u001b[0m\u001b[0m\n\u001b[0m\u001b[0;32m      2\u001b[0m \u001b[1;32mimport\u001b[0m \u001b[0mnumpy\u001b[0m\u001b[1;33m\u001b[0m\u001b[1;33m\u001b[0m\u001b[0m\n\u001b[0;32m      3\u001b[0m \u001b[1;32mfrom\u001b[0m \u001b[0mthreading\u001b[0m \u001b[1;32mimport\u001b[0m \u001b[0mThread\u001b[0m\u001b[1;33m\u001b[0m\u001b[1;33m\u001b[0m\u001b[0m\n\u001b[0;32m      4\u001b[0m \u001b[1;32mimport\u001b[0m \u001b[0msubprocess\u001b[0m \u001b[1;32mas\u001b[0m \u001b[0msp\u001b[0m\u001b[1;33m\u001b[0m\u001b[1;33m\u001b[0m\u001b[0m\n\u001b[0;32m      5\u001b[0m \u001b[1;32mfrom\u001b[0m \u001b[0mqueue\u001b[0m \u001b[1;32mimport\u001b[0m \u001b[0mQueue\u001b[0m\u001b[1;33m\u001b[0m\u001b[1;33m\u001b[0m\u001b[0m\n",
      "\u001b[1;31mModuleNotFoundError\u001b[0m: No module named 'streamlink'"
     ]
    }
   ],
   "source": [
    "import streamlink\n",
    "import numpy\n",
    "from threading import Thread\n",
    "import subprocess as sp\n",
    "from queue import Queue\n",
    "\n",
    "class VideoStreamer:\n",
    "    def __init__(self, twitch_url, queueSize=128, resolution='720p', n_frame=10):\n",
    "        self.stopped = False\n",
    "        self.twitch_url = twitch_url\n",
    "        self.res = resolution\n",
    "        self.n_frame = n_frame\n",
    "\n",
    "        # initialize the queue used to store frames read from\n",
    "        # the video stream\n",
    "        self.Q = Queue(maxsize=queueSize)\n",
    "        checkIfStreamsWorks = self.create_pipe()\n",
    "\n",
    "        if checkIfStreamsWorks:\n",
    "            self.start_buffer()\n",
    "\n",
    "    def create_pipe(self):\n",
    "        streamer_name = self.twitch_url.split(\"/\")[3]\n",
    "\n",
    "\n",
    "        try:\n",
    "            streams = streamlink.streams(self.twitch_url)\n",
    "        except streamlink.exceptions.NoPluginError:\n",
    "            print(\"NO STREAM AVAILABLE for \" + streamer_name)\n",
    "            return False\n",
    "        except:\n",
    "            print(\"NO STREAM AVAILABLE no exception \" + streamer_name)\n",
    "            return False\n",
    "\n",
    "        #print(\"available streams: \"+ str(streams))\n",
    "\n",
    "        resolutions = {'360p': {\"byte_lenght\": 640, \"byte_width\": 360}, '480p': {\"byte_lenght\": 854, \"byte_width\": 480}, '720p': {\"byte_lenght\": 1280, \"byte_width\": 720}, '1080p': {\"byte_lenght\": 1920, \"byte_width\": 1080}}\n",
    "\n",
    "        if self.res in streams:\n",
    "            finalRes = self.res\n",
    "        else:\n",
    "            for key in resolutions:\n",
    "                if key != self.res and key in streams:\n",
    "                    print(\"USED FALL BACK \" + key)\n",
    "                    finalRes = key\n",
    "                    break\n",
    "            else: # das else gehört zur foor loop! wenn sie nicht breaked dann wird der teil ausgeführt https://docs.python.org/2/tutorial/controlflow.html#break-and-continue-statements-and-else-clauses-on-loops\n",
    "                print(\"COULD NOT FIND STREAM \" + streamer_name)\n",
    "                return False\n",
    "\n",
    "        self.byte_lenght = resolutions[finalRes][\"byte_lenght\"]\n",
    "        self.byte_width = resolutions[finalRes][\"byte_width\"]\n",
    "\n",
    "        print(\"FINAL RES \" + finalRes + \" \" + streamer_name)\n",
    "\n",
    "        stream = streams[finalRes]\n",
    "        self.stream_url = stream.url\n",
    "\n",
    "        self.pipe = sp.Popen(['C:/Users/ADMINS/Desktop/stream/ffmpeg-20191106-fc7b6d5-win64-static/bin/ffmpeg', \"-i\", self.stream_url,\n",
    "                         \"-loglevel\", \"quiet\",  # no text output\n",
    "                         \"-an\",  # disable audio\n",
    "                         \"-f\", \"image2pipe\",\n",
    "                         \"-pix_fmt\", \"bgr24\",\n",
    "                         \"-vcodec\", \"rawvideo\", \"-\"],\n",
    "                        stdin=sp.PIPE, stdout=sp.PIPE)\n",
    "        return True\n",
    "\n",
    "    def start_buffer(self):\n",
    "        # start a thread to read frames from the file video stream\n",
    "        t = Thread(target=self.update_buffer, args=())\n",
    "        t.daemon = True\n",
    "        t.start()\n",
    "        return self\n",
    "\n",
    "    def update_buffer(self):\n",
    "\n",
    "        count_frame = 0\n",
    "\n",
    "        while True:\n",
    "\n",
    "            if count_frame % self.n_frame == 0:\n",
    "\n",
    "                raw_image = self.pipe.stdout.read(\n",
    "                    self.byte_lenght * self.byte_width * 3)  # read length*width*3 bytes (= 1 frame)\n",
    "\n",
    "                frame = numpy.fromstring(raw_image, dtype='uint8').reshape((self.byte_width, self.byte_lenght, 3))\n",
    "\n",
    "                if not self.Q.full():\n",
    "                    self.Q.put(frame)\n",
    "                    count_frame += 1\n",
    "                else:\n",
    "                    count_frame += 1\n",
    "                    continue\n",
    "            else:\n",
    "                count_frame += 1\n",
    "                continue\n",
    "\n",
    "    def read(self):\n",
    "        # return next frame in the queue\n",
    "        return self.Q.get()\n",
    "\n",
    "    def more(self):\n",
    "        # return True if there are still frames in the queue\n",
    "        return self.Q.qsize() > 0\n",
    "\n",
    "    def stop(self):\n",
    "        # indicate that the thread should be stopped\n",
    "        self.stopped = True\n",
    "\n",
    "\n"
   ]
  },
  {
   "cell_type": "code",
   "execution_count": 2,
   "metadata": {},
   "outputs": [
    {
     "ename": "NameError",
     "evalue": "name 'VideoStreamer' is not defined",
     "output_type": "error",
     "traceback": [
      "\u001b[1;31m---------------------------------------------------------------------------\u001b[0m",
      "\u001b[1;31mNameError\u001b[0m                                 Traceback (most recent call last)",
      "\u001b[1;32m<ipython-input-2-a3113fd09d37>\u001b[0m in \u001b[0;36m<module>\u001b[1;34m\u001b[0m\n\u001b[1;32m----> 1\u001b[1;33m \u001b[0mv\u001b[0m\u001b[1;33m=\u001b[0m \u001b[0mVideoStreamer\u001b[0m\u001b[1;33m(\u001b[0m\u001b[1;34m'https://www.twitch.tv/esl_csgo'\u001b[0m\u001b[1;33m)\u001b[0m\u001b[1;33m\u001b[0m\u001b[1;33m\u001b[0m\u001b[0m\n\u001b[0m",
      "\u001b[1;31mNameError\u001b[0m: name 'VideoStreamer' is not defined"
     ]
    }
   ],
   "source": [
    "v= VideoStreamer('https://www.twitch.tv/esl_csgo')"
   ]
  },
  {
   "cell_type": "code",
   "execution_count": 17,
   "metadata": {},
   "outputs": [
    {
     "ename": "ZeroDivisionError",
     "evalue": "float division by zero",
     "output_type": "error",
     "traceback": [
      "\u001b[1;31m---------------------------------------------------------------------------\u001b[0m",
      "\u001b[1;31mZeroDivisionError\u001b[0m                         Traceback (most recent call last)",
      "\u001b[1;32m<ipython-input-17-0cf23a7bda58>\u001b[0m in \u001b[0;36m<module>\u001b[1;34m\u001b[0m\n\u001b[0;32m     11\u001b[0m \u001b[1;31m#         print(type(bgr_image))\u001b[0m\u001b[1;33m\u001b[0m\u001b[1;33m\u001b[0m\u001b[1;33m\u001b[0m\u001b[0m\n\u001b[0;32m     12\u001b[0m \u001b[1;31m#         l.append(bgr_image)\u001b[0m\u001b[1;33m\u001b[0m\u001b[1;33m\u001b[0m\u001b[1;33m\u001b[0m\u001b[0m\n\u001b[1;32m---> 13\u001b[1;33m     \u001b[0mprint\u001b[0m\u001b[1;33m(\u001b[0m\u001b[1;34m\"FPS: \"\u001b[0m\u001b[1;33m,\u001b[0m \u001b[1;36m1.0\u001b[0m \u001b[1;33m/\u001b[0m \u001b[1;33m(\u001b[0m\u001b[0mtime\u001b[0m\u001b[1;33m.\u001b[0m\u001b[0mtime\u001b[0m\u001b[1;33m(\u001b[0m\u001b[1;33m)\u001b[0m \u001b[1;33m-\u001b[0m \u001b[0mstart_time\u001b[0m\u001b[1;33m)\u001b[0m\u001b[1;33m)\u001b[0m\u001b[1;33m\u001b[0m\u001b[1;33m\u001b[0m\u001b[0m\n\u001b[0m\u001b[0;32m     14\u001b[0m \u001b[1;31m#     counter+=1\u001b[0m\u001b[1;33m\u001b[0m\u001b[1;33m\u001b[0m\u001b[1;33m\u001b[0m\u001b[0m\n\u001b[0;32m     15\u001b[0m \u001b[1;31m#     if (time.time() - start_time) > x :\u001b[0m\u001b[1;33m\u001b[0m\u001b[1;33m\u001b[0m\u001b[1;33m\u001b[0m\u001b[0m\n",
      "\u001b[1;31mZeroDivisionError\u001b[0m: float division by zero"
     ]
    }
   ],
   "source": [
    "import time\n",
    "# start_time = time.time()\n",
    "# x = 1 # displays the frame rate every 1 second\n",
    "# counter = 0\n",
    "while True:\n",
    "    start_time = time.time()\n",
    "    if v.more():\n",
    "\n",
    "        bgr_image = v.read()\n",
    "#         print(type(bgr_image))\n",
    "#         l.append(bgr_image)\n",
    "    print(\"FPS: \", 1.0 / (time.time() - start_time))\n",
    "#     counter+=1\n",
    "#     if (time.time() - start_time) > x :\n",
    "#         print(\"FPS: \", counter / (time.time() - start_time))\n",
    "#         counter = 0\n",
    "#         start_time = time.time()"
   ]
  },
  {
   "cell_type": "code",
   "execution_count": 8,
   "metadata": {},
   "outputs": [
    {
     "name": "stderr",
     "output_type": "stream",
     "text": [
      "c:\\users\\evuomin\\appdata\\local\\continuum\\anaconda3\\envs\\kevin\\lib\\site-packages\\ipykernel_launcher.py:86: DeprecationWarning: The binary mode of fromstring is deprecated, as it behaves surprisingly on unicode inputs. Use frombuffer instead\n"
     ]
    }
   ],
   "source": [
    "from PIL import Image"
   ]
  },
  {
   "cell_type": "code",
   "execution_count": 10,
   "metadata": {},
   "outputs": [
    {
     "data": {
      "text/plain": [
       "133"
      ]
     },
     "execution_count": 10,
     "metadata": {},
     "output_type": "execute_result"
    },
    {
     "name": "stderr",
     "output_type": "stream",
     "text": [
      "c:\\users\\evuomin\\appdata\\local\\continuum\\anaconda3\\envs\\kevin\\lib\\site-packages\\ipykernel_launcher.py:86: DeprecationWarning: The binary mode of fromstring is deprecated, as it behaves surprisingly on unicode inputs. Use frombuffer instead\n"
     ]
    }
   ],
   "source": [
    "len(l)"
   ]
  },
  {
   "cell_type": "code",
   "execution_count": 9,
   "metadata": {},
   "outputs": [
    {
     "name": "stderr",
     "output_type": "stream",
     "text": [
      "c:\\users\\evuomin\\appdata\\local\\continuum\\anaconda3\\envs\\kevin\\lib\\site-packages\\ipykernel_launcher.py:86: DeprecationWarning: The binary mode of fromstring is deprecated, as it behaves surprisingly on unicode inputs. Use frombuffer instead\n"
     ]
    }
   ],
   "source": [
    "img = Image.fromarray(l[0], 'RGB')\n",
    "img.show()"
   ]
  }
 ],
 "metadata": {
  "kernelspec": {
   "display_name": "Python 3",
   "language": "python",
   "name": "python3"
  },
  "language_info": {
   "codemirror_mode": {
    "name": "ipython",
    "version": 3
   },
   "file_extension": ".py",
   "mimetype": "text/x-python",
   "name": "python",
   "nbconvert_exporter": "python",
   "pygments_lexer": "ipython3",
   "version": "3.6.8"
  }
 },
 "nbformat": 4,
 "nbformat_minor": 4
}
